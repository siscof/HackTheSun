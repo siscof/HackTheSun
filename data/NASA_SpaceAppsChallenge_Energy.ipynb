{
 "cells": [
  {
   "cell_type": "markdown",
   "metadata": {},
   "source": [
    "# Rendimiento Energético\n",
    "-------\n"
   ]
  },
  {
   "cell_type": "code",
   "execution_count": 54,
   "metadata": {
    "collapsed": false
   },
   "outputs": [
    {
     "name": "stdout",
     "output_type": "stream",
     "text": [
      "IPython console for SymPy 1.0 (Python 3.5.2-64-bit) (ground types: python)\n"
     ]
    }
   ],
   "source": [
    "import sympy as sp\n",
    "sp.init_session(quiet=True)"
   ]
  },
  {
   "cell_type": "markdown",
   "metadata": {},
   "source": [
    "## Formula de Energía Solar\n",
    "\n",
    "Para determinar la energía solar es necesario contar con las siguientes variables\n",
    "1. __[A]__ Area de la superficie de los paneles solares PV o CSP\n",
    "2. __[r]__ Eficiencia de los materiales de los paneles\n",
    "3. __[H]__ Radiacion dependiendo de la Latitud y Logitud de la localidad\n",
    "4. __[P]__ Rendimiento del ecosistema\n"
   ]
  },
  {
   "cell_type": "code",
   "execution_count": 55,
   "metadata": {
    "collapsed": false
   },
   "outputs": [],
   "source": [
    "A = sp.Symbol('A') # Area de la superficie\n",
    "r = sp.Symbol('r') # Eficiencia\n",
    "H = sp.Symbol('H') # Radiacion solar promedio al año\n",
    "P = sp.Symbol('P') # Rendimiento ecosistema"
   ]
  },
  {
   "cell_type": "markdown",
   "metadata": {},
   "source": [
    "### Definición de la función del costo\n",
    "\n",
    "Esta formula esta determina el valor final de la energía producida por los paneles solares."
   ]
  },
  {
   "cell_type": "code",
   "execution_count": 52,
   "metadata": {
    "collapsed": false
   },
   "outputs": [
    {
     "data": {
      "image/png": "[encoded data removed]",
      "text/latex": [
       "$$A H P r$$"
      ],
      "text/plain": [
       "A⋅H⋅P⋅r"
      ]
     },
     "execution_count": 52,
     "metadata": {},
     "output_type": "execute_result"
    }
   ],
   "source": [
    "E = sp.sympify(\"A * r * H * P\")\n",
    "E"
   ]
  },
  {
   "cell_type": "code",
   "execution_count": 48,
   "metadata": {
    "collapsed": false
   },
   "outputs": [
    {
     "data": {
      "image/png": "[encoded data removed]",
      "text/latex": [
       "$$24.0$$"
      ],
      "text/plain": [
       "24.0000000000000"
      ]
     },
     "execution_count": 48,
     "metadata": {},
     "output_type": "execute_result"
    }
   ],
   "source": [
    "E.subs({'A': 1, 'r': 2, 'H' : 3, 'P' : 4}).evalf()"
   ]
  }
 ],
 "metadata": {
  "kernelspec": {
   "display_name": "Python 3",
   "language": "python",
   "name": "python3"
  },
  "language_info": {
   "codemirror_mode": {
    "name": "ipython",
    "version": 3
   },
   "file_extension": ".py",
   "mimetype": "text/x-python",
   "name": "python",
   "nbconvert_exporter": "python",
   "pygments_lexer": "ipython3",
   "version": "3.5.2"
  }
 },
 "nbformat": 4,
 "nbformat_minor": 2
}
